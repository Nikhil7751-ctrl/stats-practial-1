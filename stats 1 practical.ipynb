{
 "cells": [
  {
   "cell_type": "code",
   "execution_count": 2,
   "id": "91e1b8df-58da-4981-87c3-295aa50c740d",
   "metadata": {
    "colab": {
     "base_uri": "https://localhost:8080/"
    },
    "id": "91e1b8df-58da-4981-87c3-295aa50c740d",
    "outputId": "8772ceab-72e7-45d6-ba0c-bf359e772e58"
   },
   "outputs": [
    {
     "name": "stdout",
     "output_type": "stream",
     "text": [
      "   age  salary  increment\n",
      "0   61    3568          6\n",
      "1   24  121151          6\n",
      "2   81  194664          5\n",
      "3   70  199635          5\n",
      "4   30  134767          4\n"
     ]
    }
   ],
   "source": [
    "import numpy as np\n",
    "import pandas as pd\n",
    "\n",
    "np.random.seed(42)\n",
    "n_rows = 100\n",
    "\n",
    "data = {\n",
    "    'age': np.random.randint(10,99 , size=n_rows),\n",
    "    'salary': np.random.randint(1000, 200000, size=n_rows),\n",
    "    'increment': np.random.choice([3, 4, 5, 6], size=n_rows)\n",
    "}\n",
    "\n",
    "df = pd.DataFrame(data)\n",
    "print(df.head())\n"
   ]
  },
  {
   "cell_type": "code",
   "execution_count": 4,
   "id": "39cf0666-11e0-4844-9436-b93fbc079381",
   "metadata": {
    "colab": {
     "base_uri": "https://localhost:8080/"
    },
    "id": "39cf0666-11e0-4844-9436-b93fbc079381",
    "outputId": "f5f55200-66bf-475c-fc4c-2e108e962610"
   },
   "outputs": [
    {
     "name": "stdout",
     "output_type": "stream",
     "text": [
      "Synthetic Dataset with NaN values:\n",
      "\n",
      "    age    salary  increment  Age\n",
      "0    61    3568.0          6  NaN\n",
      "1    24  121151.0          6  NaN\n",
      "2    81  194664.0          5  NaN\n",
      "3    70  199635.0          5  NaN\n",
      "4    30  134767.0          4  NaN\n",
      "5    92  125375.0          6  NaN\n",
      "6    96  180262.0          6  NaN\n",
      "7    84  137330.0          6  NaN\n",
      "8    84   40504.0          3  NaN\n",
      "9    97  165231.0          6  NaN\n",
      "10   33   14986.0          3  NaN\n",
      "11   12   62858.0          4  NaN\n",
      "12   31  130312.0          3  NaN\n",
      "13   62   13666.0          4  NaN\n",
      "14   11   39660.0          6  NaN\n"
     ]
    }
   ],
   "source": [
    "df.loc[np.random.choice(df.index, 2, replace=False), \"salary\"] = np.nan\n",
    "df.loc[np.random.choice(df.index, 3, replace=False), \"Age\"] = np.nan\n",
    "\n",
    "print(\"Synthetic Dataset with NaN values:\\n\")\n",
    "print(df.head(15))"
   ]
  },
  {
   "cell_type": "code",
   "execution_count": 3,
   "id": "612621bf-676d-4de6-ad72-a47edbd02f8d",
   "metadata": {
    "colab": {
     "base_uri": "https://localhost:8080/"
    },
    "id": "612621bf-676d-4de6-ad72-a47edbd02f8d",
    "outputId": "45eae549-e1c5-4068-cc7b-4cd92be1ac23"
   },
   "outputs": [
    {
     "name": "stderr",
     "output_type": "stream",
     "text": [
      "/tmp/ipython-input-2109699827.py:7: RuntimeWarning: invalid value encountered in scalar divide\n",
      "  age_weighted_mean = (df[\"salary\"] * df[\"Age\"]).sum(skipna=True) / df[\"Age\"].sum(skipna=True)\n"
     ]
    }
   ],
   "source": [
    "# Mean of income\n",
    "mean_salary = df[\"salary\"].mean(skipna=True)\n",
    "# Median of income\n",
    "median_salary = df[\"salary\"].median(skipna=True)\n",
    "# Age-weighted mean of income\n",
    "# Formula: (Σ (Income * Age)) / (Σ Age)\n",
    "age_weighted_mean = (df[\"salary\"] * df[\"Age\"]).sum(skipna=True) / df[\"Age\"].sum(skipna=True)\n"
   ]
  },
  {
   "cell_type": "code",
   "execution_count": 4,
   "id": "253dd25e-370f-4f40-9f9f-4702790e79a9",
   "metadata": {
    "colab": {
     "base_uri": "https://localhost:8080/"
    },
    "id": "253dd25e-370f-4f40-9f9f-4702790e79a9",
    "outputId": "40b332e9-c2f5-42b7-d9dc-fcb4f748c36b"
   },
   "outputs": [
    {
     "name": "stdout",
     "output_type": "stream",
     "text": [
      "\n",
      "Results:\n",
      "Mean salary = 253933.793\n",
      "Median Income = 245947.000\n",
      "Age-Weighted Mean salary = nan\n"
     ]
    }
   ],
   "source": [
    "print(\"\\nResults:\")\n",
    "print(f\"Mean salary = {mean_salary:.3f}\")\n",
    "print(f\"Median Income = {median_salary:.3f}\")\n",
    "print(f\"Age-Weighted Mean salary = {age_weighted_mean:.3f}\")"
   ]
  },
  {
   "cell_type": "markdown",
   "id": "NWP4n026XLXT",
   "metadata": {
    "id": "NWP4n026XLXT"
   },
   "source": [
    ":Q Explain when weighted mean is preferable.\n",
    "Ans:Use weighted mean when some data should matter more than others.\n"
   ]
  },
  {
   "cell_type": "markdown",
   "id": "BX9J_RBtXRx5",
   "metadata": {
    "id": "BX9J_RBtXRx5"
   },
   "source": [
    "Problem 2: Standardize income (z-score). Report how many incomes are outliers using rule |z|\n",
    "> 3. Handle NaNs correctly (do not drop entire rows unnecessarily).\n"
   ]
  },
  {
   "cell_type": "code",
   "execution_count": 5,
   "id": "8bfd4d21-522a-45bc-aef2-b31212146103",
   "metadata": {
    "id": "8bfd4d21-522a-45bc-aef2-b31212146103"
   },
   "outputs": [],
   "source": [
    "# Z-score standardization\n",
    "mean_salary = df[\"salary\"].mean(skipna=True)\n",
    "std_salary = df[\"salary\"].std(skipna=True)\n",
    "# Compute z-scores for Income\n",
    "df[\"salary_z\"] = (df[\"salary\"] - mean_salary) / std_salary\n",
    "# Identify outliers using |z| > 3\n",
    "outliers = df[(df[\"salary_z\"].abs() > 3)]"
   ]
  },
  {
   "cell_type": "code",
   "execution_count": 6,
   "id": "458bc2aa-0108-459a-bbca-75fae1377713",
   "metadata": {
    "colab": {
     "base_uri": "https://localhost:8080/"
    },
    "id": "458bc2aa-0108-459a-bbca-75fae1377713",
    "outputId": "593f37ea-00b8-426b-bc02-77c050769180"
   },
   "outputs": [
    {
     "name": "stdout",
     "output_type": "stream",
     "text": [
      "\n",
      "Standardized Income (z-scores):\n",
      "\n",
      "      salary  salary_z\n",
      "0   492879.0  1.635701\n",
      "1    45397.0 -1.427540\n",
      "2   262750.0  0.060351\n",
      "3   358531.0  0.716021\n",
      "4   268160.0  0.097386\n",
      "5   488005.0  1.602336\n",
      "6    60591.0 -1.323529\n",
      "7   225884.0 -0.192015\n",
      "8    28247.0 -1.544940\n",
      "9        NaN       NaN\n",
      "10  472281.0  1.494697\n",
      "11   87798.0 -1.137283\n",
      "12       NaN       NaN\n",
      "13  353951.0  0.684668\n",
      "14  279329.0  0.173843\n",
      "\n",
      "Number of outliers = 0\n",
      "\n",
      "Outlier Rows:\n",
      "\n",
      "Empty DataFrame\n",
      "Columns: [age, salary, increment, Age, salary_z]\n",
      "Index: []\n"
     ]
    }
   ],
   "source": [
    "print(\"\\nStandardized Income (z-scores):\\n\")\n",
    "print(df[[ \"salary\", \"salary_z\"]].head(15))\n",
    "\n",
    "print(f\"\\nNumber of outliers = {outliers.shape[0]}\")\n",
    "print(\"\\nOutlier Rows:\\n\")\n",
    "print(outliers)"
   ]
  },
  {
   "cell_type": "markdown",
   "id": "VuQK1BzAXXbi",
   "metadata": {
    "id": "VuQK1BzAXXbi"
   },
   "source": [
    "Problem 3: Create age bins: [18-25), [25-35), [35-45), [45-60) and compute for each bin:\n",
    "● count of observations,\n",
    "● mean income,\n",
    "● median score.\n",
    "Show result as a tidy DataFrame sorted by age bin.\n"
   ]
  },
  {
   "cell_type": "code",
   "execution_count": 7,
   "id": "e1255bb7-38f2-40fc-a3c8-6b5632b6a375",
   "metadata": {
    "colab": {
     "base_uri": "https://localhost:8080/"
    },
    "id": "e1255bb7-38f2-40fc-a3c8-6b5632b6a375",
    "outputId": "2c510094-5acd-4a6d-e3df-0726d5dd0d7a"
   },
   "outputs": [
    {
     "name": "stderr",
     "output_type": "stream",
     "text": [
      "/tmp/ipython-input-2743987192.py:5: FutureWarning: The default of observed=False is deprecated and will be changed to True in a future version of pandas. Pass observed=False to retain current behavior or observed=True to adopt the future default and silence this warning.\n",
      "  result = df.groupby(\"Age_Bin\").agg(\n"
     ]
    }
   ],
   "source": [
    "bins = [15, 25, 34, 45, 55]\n",
    "labels = [\"15-25\", \"25-34\", \"34-45\", \"45-55\"]\n",
    "\n",
    "df[\"Age_Bin\"] = pd.cut(df[\"Age\"], bins=bins, labels=labels, right=False)\n",
    "result = df.groupby(\"Age_Bin\").agg(\n",
    "    Count=(\"salary\", \"count\"),\n",
    "    Mean_Income=(\"salary\", \"mean\"),\n",
    "    Median_Income=(\"salary\", \"median\")\n",
    ").reset_index()\n",
    "result = result.sort_values(\"Age_Bin\").reset_index(drop=True)"
   ]
  },
  {
   "cell_type": "code",
   "execution_count": 8,
   "id": "e2d45f32-ea4c-466c-8d54-e7ca4b5d3f18",
   "metadata": {
    "colab": {
     "base_uri": "https://localhost:8080/"
    },
    "id": "e2d45f32-ea4c-466c-8d54-e7ca4b5d3f18",
    "outputId": "02e4e50f-1a66-4c17-99e4-fcbb56703a54"
   },
   "outputs": [
    {
     "name": "stdout",
     "output_type": "stream",
     "text": [
      "\n",
      "Result by Age Bin:\n",
      "\n",
      "  Age_Bin  Count  Mean_Income  Median_Income\n",
      "0   15-25      0          NaN            NaN\n",
      "1   25-34      0          NaN            NaN\n",
      "2   34-45      0          NaN            NaN\n",
      "3   45-55      0          NaN            NaN\n"
     ]
    }
   ],
   "source": [
    "print(\"\\nResult by Age Bin:\\n\")\n",
    "print(result)"
   ]
  },
  {
   "cell_type": "markdown",
   "id": "AhDoCN43XeGt",
   "metadata": {
    "id": "AhDoCN43XeGt"
   },
   "source": [
    "Problem 4: Create an array it cannot be of 1 Dimension. And then showcase the operation for\n",
    "the following:\n",
    "● Shape and Resize → shape, size, Transpose, Flatten\n",
    "● Showcasing negative indexing and display error while doing slicing\n",
    "● Arithmetic Operations → Broadcasting, Dot Product\n",
    "● Linear Algebra → Determinant, Inverse\n",
    "                                                                                       "
   ]
  },
  {
   "cell_type": "code",
   "execution_count": 9,
   "id": "66d2f3d3-ec70-4d8a-9547-77fccdb7e66f",
   "metadata": {
    "colab": {
     "base_uri": "https://localhost:8080/"
    },
    "id": "66d2f3d3-ec70-4d8a-9547-77fccdb7e66f",
    "outputId": "5fd74fef-8562-4607-a999-e99246e3e3ea"
   },
   "outputs": [
    {
     "name": "stdout",
     "output_type": "stream",
     "text": [
      "Original Array:\n",
      " [[1. 2. 3.]\n",
      " [4. 5. 6.]\n",
      " [7. 8. 9.]]\n"
     ]
    }
   ],
   "source": [
    "arr = np.array([[1, 2, 3],\n",
    "                [4, 5, 6],\n",
    "                [7, 8, 9]], dtype=float)\n",
    "print(\"Original Array:\\n\", arr)"
   ]
  },
  {
   "cell_type": "code",
   "execution_count": 10,
   "id": "c227c64b-96dc-42ce-a006-c4f15977246d",
   "metadata": {
    "colab": {
     "base_uri": "https://localhost:8080/"
    },
    "id": "c227c64b-96dc-42ce-a006-c4f15977246d",
    "outputId": "e169903d-d2c6-438a-fade-9239deb36396"
   },
   "outputs": [
    {
     "name": "stdout",
     "output_type": "stream",
     "text": [
      "\n",
      "Shape of array: (3, 3)\n",
      "Size of array: 9\n",
      "Transpose of array:\n",
      " [[1. 4. 7.]\n",
      " [2. 5. 8.]\n",
      " [3. 6. 9.]]\n",
      "Flattened array:\n",
      " [1. 2. 3. 4. 5. 6. 7. 8. 9.]\n"
     ]
    }
   ],
   "source": [
    "# Shape and Resize\n",
    "print(\"\\nShape of array:\", arr.shape)\n",
    "print(\"Size of array:\", arr.size)\n",
    "print(\"Transpose of array:\\n\", arr.T)\n",
    "print(\"Flattened array:\\n\", arr.flatten())"
   ]
  },
  {
   "cell_type": "code",
   "execution_count": 11,
   "id": "db46664f-70f5-46fa-a1f0-cb9df864b97f",
   "metadata": {
    "colab": {
     "base_uri": "https://localhost:8080/"
    },
    "id": "db46664f-70f5-46fa-a1f0-cb9df864b97f",
    "outputId": "0bd13129-fefa-4bf9-e076-f82dbeadc00e"
   },
   "outputs": [
    {
     "name": "stdout",
     "output_type": "stream",
     "text": [
      "\n",
      "Last row using negative indexing: [7. 8. 9.]\n",
      "Last element using negative indexing: 9.0\n"
     ]
    }
   ],
   "source": [
    "# Negative Indexing\n",
    "print(\"\\nLast row using negative indexing:\", arr[-1])\n",
    "print(\"Last element using negative indexing:\", arr[-1, -1])"
   ]
  },
  {
   "cell_type": "code",
   "execution_count": 12,
   "id": "13684b04-4f9d-47fc-9ce1-3e474e04061a",
   "metadata": {
    "colab": {
     "base_uri": "https://localhost:8080/"
    },
    "id": "13684b04-4f9d-47fc-9ce1-3e474e04061a",
    "outputId": "c6d55ecf-07c6-413e-a9cd-9c47a4267b32"
   },
   "outputs": [
    {
     "name": "stdout",
     "output_type": "stream",
     "text": [
      "\n",
      "IndexError: index -7 is out of bounds for axis 0 with size 3\n"
     ]
    }
   ],
   "source": [
    "# Error in slicing\n",
    "try:\n",
    "    print(arr[-7])\n",
    "except IndexError as e:\n",
    "    print(\"\\nIndexError:\", e)"
   ]
  },
  {
   "cell_type": "code",
   "execution_count": 13,
   "id": "b8bfee98-162a-4f3c-81b2-cf48bba3b5fc",
   "metadata": {
    "colab": {
     "base_uri": "https://localhost:8080/"
    },
    "id": "b8bfee98-162a-4f3c-81b2-cf48bba3b5fc",
    "outputId": "896b422b-c809-441a-b99e-b30181b9b8fa"
   },
   "outputs": [
    {
     "name": "stdout",
     "output_type": "stream",
     "text": [
      "\n",
      "Broadcasting (arr + 5):\n",
      " [[ 6.  7.  8.]\n",
      " [ 9. 10. 11.]\n",
      " [12. 13. 14.]]\n",
      "\n",
      "Dot Product (arr x arr):\n",
      " [[ 30.  36.  42.]\n",
      " [ 66.  81.  96.]\n",
      " [102. 126. 150.]]\n",
      "\n",
      "Determinant: 0.0\n",
      "Matrix is singular, inverse does not exist\n"
     ]
    }
   ],
   "source": [
    "# Arithmetic Operations\n",
    "# Broadcasting (adding scalar)\n",
    "print(\"\\nBroadcasting (arr + 5):\\n\", arr + 5)\n",
    "\n",
    "# Dot product (matrix multiplication)\n",
    "dot_product = np.dot(arr, arr)\n",
    "print(\"\\nDot Product (arr x arr):\\n\", dot_product)\n",
    "\n",
    "# Linear Algebra Operations\n",
    "det = np.linalg.det(arr)\n",
    "print(\"\\nDeterminant:\", det)\n",
    "\n",
    "# Inverse (only if determinant != 0)\n",
    "if det != 0:\n",
    "    inv = np.linalg.inv(arr)\n",
    "    print(\"Inverse:\\n\", inv)\n",
    "else:\n",
    "    print(\"Matrix is singular, inverse does not exist\")"
   ]
  },
  {
   "cell_type": "code",
   "execution_count": null,
   "id": "3e5fb43c-e66c-4c26-b5c4-9b2bbc38d240",
   "metadata": {
    "id": "3e5fb43c-e66c-4c26-b5c4-9b2bbc38d240"
   },
   "outputs": [],
   "source": []
  }
 ],
 "metadata": {
  "colab": {
   "provenance": []
  },
  "kernelspec": {
   "display_name": "Python 3 (ipykernel)",
   "language": "python",
   "name": "python3"
  },
  "language_info": {
   "codemirror_mode": {
    "name": "ipython",
    "version": 3
   },
   "file_extension": ".py",
   "mimetype": "text/x-python",
   "name": "python",
   "nbconvert_exporter": "python",
   "pygments_lexer": "ipython3",
   "version": "3.12.4"
  }
 },
 "nbformat": 4,
 "nbformat_minor": 5
}
